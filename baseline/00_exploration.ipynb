{
 "cells": [
  {
   "cell_type": "code",
   "execution_count": null,
   "id": "c3ed64b3-bfcd-4201-adcf-660c7f1a9391",
   "metadata": {},
   "outputs": [],
   "source": [
    "### this one to test the dgl "
   ]
  }
 ],
 "metadata": {
  "kernelspec": {
   "display_name": "pytorch_gpu_pyg",
   "language": "python",
   "name": "pytorch_gpu_pyg"
  },
  "language_info": {
   "codemirror_mode": {
    "name": "ipython",
    "version": 3
   },
   "file_extension": ".py",
   "mimetype": "text/x-python",
   "name": "python",
   "nbconvert_exporter": "python",
   "pygments_lexer": "ipython3",
   "version": "3.9.16"
  }
 },
 "nbformat": 4,
 "nbformat_minor": 5
}
